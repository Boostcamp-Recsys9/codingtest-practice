{
 "cells": [
  {
   "cell_type": "code",
   "execution_count": 1,
   "metadata": {},
   "outputs": [],
   "source": [
    "def solution(info, query):\n",
    "    answer = []\n",
    "    \n",
    "    info = [i.split() for i in info]\n",
    "    query = [i.split(' and ') for i in query]\n",
    "    \n",
    "    for i in query:\n",
    "        peo = 0\n",
    "        \n",
    "        lang = i[0]\n",
    "        job = i[1]\n",
    "        work = i[2]\n",
    "        food = i[3].split()[0]\n",
    "        score = int(i[3].split()[1])\n",
    "        \n",
    "        for j in info:\n",
    "            if lang == '-':\n",
    "                pass\n",
    "            elif lang != j[0]:\n",
    "                continue\n",
    "    \n",
    "            if job == '-':\n",
    "                pass\n",
    "            elif job != j[1]:\n",
    "                continue\n",
    "                \n",
    "            if work == '-':\n",
    "                pass\n",
    "            elif work != j[2]:\n",
    "                continue\n",
    "                \n",
    "            if food == '-':\n",
    "                pass\n",
    "            elif food != j[3]:\n",
    "                continue       \n",
    "                \n",
    "            if score > int(j[4]):\n",
    "                continue                   \n",
    "            \n",
    "            peo+=1\n",
    "        answer.append(peo)\n",
    "    \n",
    "    return answer"
   ]
  },
  {
   "cell_type": "code",
   "execution_count": 2,
   "metadata": {},
   "outputs": [
    {
     "data": {
      "text/plain": [
       "[1, 1, 1, 1, 2, 4]"
      ]
     },
     "execution_count": 2,
     "metadata": {},
     "output_type": "execute_result"
    }
   ],
   "source": [
    "info = [\"java backend junior pizza 150\",\"python frontend senior chicken 210\",\"python frontend senior chicken 150\",\"cpp backend senior pizza 260\",\"java backend junior chicken 80\",\"python backend senior chicken 50\"]\n",
    "query = [\"java and backend and junior and pizza 100\",\"python and frontend and senior and chicken 200\",\"cpp and - and senior and pizza 250\",\"- and backend and senior and - 150\",\"- and - and - and chicken 100\",\"- and - and - and - 150\"]\n",
    "# result = [1,1,1,1,2,4]\n",
    "\n",
    "solution(info, query)"
   ]
  }
 ],
 "metadata": {
  "kernelspec": {
   "display_name": "Python 3",
   "language": "python",
   "name": "python3"
  },
  "language_info": {
   "codemirror_mode": {
    "name": "ipython",
    "version": 3
   },
   "file_extension": ".py",
   "mimetype": "text/x-python",
   "name": "python",
   "nbconvert_exporter": "python",
   "pygments_lexer": "ipython3",
   "version": "3.8.5"
  }
 },
 "nbformat": 4,
 "nbformat_minor": 4
}
