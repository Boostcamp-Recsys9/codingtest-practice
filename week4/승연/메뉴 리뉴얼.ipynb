{
 "cells": [
  {
   "cell_type": "code",
   "execution_count": 5,
   "metadata": {},
   "outputs": [],
   "source": [
    "from itertools import combinations\n",
    "\n",
    "def solution(orders, course):\n",
    "    answer = []\n",
    "    \n",
    "    for c in course:\n",
    "        comb = {}\n",
    "\n",
    "        for order in orders:\n",
    "            for i in list(combinations(order, c)):\n",
    "                i = sorted(i)\n",
    "                try : comb[\"\".join(i)] += 1\n",
    "                except : comb[\"\".join(i)] = 1\n",
    "    \n",
    "        for com in comb:\n",
    "            if comb[com] > 1 and comb[com] == max(comb.values()):\n",
    "                answer.append(com)\n",
    "        \n",
    "    return sorted(answer)"
   ]
  },
  {
   "cell_type": "code",
   "execution_count": 6,
   "metadata": {},
   "outputs": [
    {
     "data": {
      "text/plain": [
       "['AC', 'ACDE', 'BCFG', 'CDE']"
      ]
     },
     "execution_count": 6,
     "metadata": {},
     "output_type": "execute_result"
    }
   ],
   "source": [
    "orders = [\"ABCFG\", \"AC\", \"CDE\", \"ACDE\", \"BCFG\", \"ACDEH\"]\n",
    "course = [2,3,4]\n",
    "# result = [\"AC\", \"ACDE\", \"BCFG\", \"CDE\"]\n",
    "\n",
    "# orders = [\"ABCDE\", \"AB\", \"CD\", \"ADE\", \"XYZ\", \"XYZ\", \"ACD\"]\n",
    "# course = [2,3,5]\n",
    "# result = [\"ACD\", \"AD\", \"ADE\", \"CD\", \"XYZ\"]\n",
    "\n",
    "# orders = [\"XYZ\", \"XWY\", \"WXA\"]\n",
    "# course = [2,3,4]\n",
    "# result = [\"WX\", \"XY\"]\n",
    "\n",
    "solution(orders, course)"
   ]
  },
  {
   "cell_type": "code",
   "execution_count": null,
   "metadata": {},
   "outputs": [],
   "source": []
  }
 ],
 "metadata": {
  "kernelspec": {
   "display_name": "Python 3",
   "language": "python",
   "name": "python3"
  },
  "language_info": {
   "codemirror_mode": {
    "name": "ipython",
    "version": 3
   },
   "file_extension": ".py",
   "mimetype": "text/x-python",
   "name": "python",
   "nbconvert_exporter": "python",
   "pygments_lexer": "ipython3",
   "version": "3.8.5"
  }
 },
 "nbformat": 4,
 "nbformat_minor": 4
}
