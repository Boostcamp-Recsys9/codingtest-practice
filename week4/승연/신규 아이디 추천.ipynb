{
 "cells": [
  {
   "cell_type": "code",
   "execution_count": 1,
   "metadata": {},
   "outputs": [],
   "source": [
    "import re\n",
    "def solution(new_id):\n",
    "    answer = ''\n",
    "    \n",
    "    new_id = new_id.lower()\n",
    "    new_id = re.findall(r\"[a-z0-9\\.\\_\\-]\", new_id)\n",
    "    \n",
    "    id = []\n",
    "    flag=False\n",
    "    \n",
    "    for i in new_id:\n",
    "        if flag == True:\n",
    "            if not i == '.' : flag = False\n",
    "                \n",
    "        if flag==False:\n",
    "            id.append(i)\n",
    "            if i == '.' : flag = True\n",
    "\n",
    "    if not id == []:\n",
    "        if id[0]=='.' : del id[0]\n",
    "    if not id == []:\n",
    "        if id[-1] == '.' : del id[-1]\n",
    "    else : id.append('a')\n",
    "    \n",
    "    if len(id) >= 16:\n",
    "        if id[14] == '.' : id = id[:14]\n",
    "        else : id = id[:15]\n",
    "    \n",
    "    if len(id) <= 2:\n",
    "        while len(id) < 3:\n",
    "            id.append(id[-1])\n",
    "            \n",
    "    answer = \"\".join(id)\n",
    "    \n",
    "    return answer"
   ]
  },
  {
   "cell_type": "code",
   "execution_count": 2,
   "metadata": {},
   "outputs": [
    {
     "data": {
      "text/plain": [
       "'aaa'"
      ]
     },
     "execution_count": 2,
     "metadata": {},
     "output_type": "execute_result"
    }
   ],
   "source": [
    "new_id = \"...!@BaT#*..y.abcdefghijklm\"\n",
    "# result = \"bat.y.abcdefghi\"\n",
    "\n",
    "new_id = \".\"\n",
    "\n",
    "solution(new_id)"
   ]
  },
  {
   "cell_type": "code",
   "execution_count": null,
   "metadata": {},
   "outputs": [],
   "source": []
  }
 ],
 "metadata": {
  "kernelspec": {
   "display_name": "Python 3",
   "language": "python",
   "name": "python3"
  },
  "language_info": {
   "codemirror_mode": {
    "name": "ipython",
    "version": 3
   },
   "file_extension": ".py",
   "mimetype": "text/x-python",
   "name": "python",
   "nbconvert_exporter": "python",
   "pygments_lexer": "ipython3",
   "version": "3.8.5"
  }
 },
 "nbformat": 4,
 "nbformat_minor": 4
}
