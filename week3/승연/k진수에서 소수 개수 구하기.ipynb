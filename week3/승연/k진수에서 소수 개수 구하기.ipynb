{
 "cells": [
  {
   "cell_type": "code",
   "execution_count": 12,
   "metadata": {},
   "outputs": [],
   "source": [
    "import math\n",
    "def prime_check(num):\n",
    "    num = int(num)\n",
    "    if num < 2:\n",
    "        return False\n",
    "    for i in range(2, int(math.sqrt(num))+1):\n",
    "        if num % i == 0:\n",
    "            return False\n",
    "    return True\n",
    "\n",
    "\n",
    "def transform(n, k):\n",
    "    trans_num = ''\n",
    "    while n:\n",
    "        trans_num = str(n%k)+trans_num\n",
    "        n = n//k\n",
    "    return trans_num\n",
    "\n",
    "\n",
    "def solution(n, k):\n",
    "    answer = 0\n",
    "    trans_num = transform(n, k)\n",
    "    \n",
    "    num_list = trans_num.split(\"0\")\n",
    "    for num in num_list:\n",
    "        if num != '':\n",
    "            if prime_check(num):\n",
    "                answer+=1\n",
    "    \n",
    "    return answer"
   ]
  },
  {
   "cell_type": "code",
   "execution_count": 13,
   "metadata": {},
   "outputs": [
    {
     "data": {
      "text/plain": [
       "3"
      ]
     },
     "execution_count": 13,
     "metadata": {},
     "output_type": "execute_result"
    }
   ],
   "source": [
    "n = 437674\n",
    "k = 3\n",
    "## result = 3\n",
    "\n",
    "# n = 110011\n",
    "# k = 10\n",
    "# #result = 2\n",
    "\n",
    "solution(n, k)"
   ]
  }
 ],
 "metadata": {
  "kernelspec": {
   "display_name": "Python 3",
   "language": "python",
   "name": "python3"
  },
  "language_info": {
   "codemirror_mode": {
    "name": "ipython",
    "version": 3
   },
   "file_extension": ".py",
   "mimetype": "text/x-python",
   "name": "python",
   "nbconvert_exporter": "python",
   "pygments_lexer": "ipython3",
   "version": "3.8.5"
  }
 },
 "nbformat": 4,
 "nbformat_minor": 4
}
