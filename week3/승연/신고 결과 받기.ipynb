{
 "cells": [
  {
   "cell_type": "code",
   "execution_count": 5,
   "metadata": {},
   "outputs": [],
   "source": [
    "# target을 list에서 딕셔너리로만 바꿔줬음\n",
    "def solution(id_list, report, k):\n",
    "    answer = [0] * len(id_list)\n",
    "    reported = {i:0 for i in id_list}\n",
    "    target = {}\n",
    "    \n",
    "    report_list = [tuple(i.split()) for i in report]\n",
    "    report_list = list(set(report_list))\n",
    "\n",
    "    for r in report_list:\n",
    "        reported[r[1]] += 1\n",
    "        if reported[r[1]] >= k:\n",
    "            target.setdefault(r[1],0)\n",
    "        \n",
    "    for r in report_list:\n",
    "        if r[1] in target:\n",
    "            answer[id_list.index(r[0])]+=1\n",
    "        \n",
    "    return answer"
   ]
  },
  {
   "cell_type": "code",
   "execution_count": 6,
   "metadata": {},
   "outputs": [
    {
     "data": {
      "text/plain": [
       "[2, 1, 1, 0]"
      ]
     },
     "execution_count": 6,
     "metadata": {},
     "output_type": "execute_result"
    }
   ],
   "source": [
    "id_list = [\"muzi\", \"frodo\", \"apeach\", \"neo\"]\n",
    "report  = [\"muzi frodo\",\"apeach frodo\",\"frodo neo\",\"muzi neo\",\"apeach muzi\"]\n",
    "k       = 2\n",
    "# # result = [2,1,1,0]\n",
    "\n",
    "\n",
    "# id_list =[\"con\", \"ryan\"]\n",
    "# report  =[\"ryan con\", \"ryan con\", \"ryan con\", \"ryan con\"]\n",
    "# k       = 3\n",
    "# # result = [0,0]\n",
    "\n",
    "solution(id_list, report, k)"
   ]
  },
  {
   "cell_type": "code",
   "execution_count": null,
   "metadata": {},
   "outputs": [],
   "source": []
  },
  {
   "cell_type": "code",
   "execution_count": 7,
   "metadata": {},
   "outputs": [],
   "source": [
    "# testcase 3번 시간초과\n",
    "def solution(id_list, report, k):\n",
    "    answer = [0] * len(id_list)\n",
    "    reported = {i:0 for i in id_list}\n",
    "    target = []\n",
    "    \n",
    "    report_list = [tuple(i.split()) for i in report]\n",
    "    report_list = list(set(report_list))\n",
    "\n",
    "    for r in report_list:\n",
    "        reported[r[1]] += 1\n",
    "        if reported[r[1]] >= k:\n",
    "            target.append(r[1])\n",
    "        \n",
    "    for r in report_list:\n",
    "        if r[1] in target:\n",
    "            answer[id_list.index(r[0])]+=1\n",
    "        \n",
    "    return answer"
   ]
  }
 ],
 "metadata": {
  "kernelspec": {
   "display_name": "Python 3",
   "language": "python",
   "name": "python3"
  },
  "language_info": {
   "codemirror_mode": {
    "name": "ipython",
    "version": 3
   },
   "file_extension": ".py",
   "mimetype": "text/x-python",
   "name": "python",
   "nbconvert_exporter": "python",
   "pygments_lexer": "ipython3",
   "version": "3.8.5"
  }
 },
 "nbformat": 4,
 "nbformat_minor": 4
}
