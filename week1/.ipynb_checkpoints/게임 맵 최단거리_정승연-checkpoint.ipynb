{
 "cells": [
  {
   "attachments": {
    "image-2.png": {
     "image/png": "[encoded data removed]"
    },
    "image-3.png": {
     "image/png": "[encoded data removed]"
    },
    "image-4.png": {
     "image/png": "[encoded data removed]"
    },
    "image.png": {
     "image/png": "[encoded data removed]"
    }
   },
   "cell_type": "markdown",
   "metadata": {},
   "source": [
    "ROR 게임은 두 팀으로 나누어서 진행하며, 상대 팀 진영을 먼저 파괴하면 이기는 게임입니다.\n",
    "\n",
    "따라서, 각 팀은 상대 팀 진영에 최대한 빨리 도착하는 것이 유리합니다.\n",
    "\n",
    "지금부터 당신은 한 팀의 팀원이 되어 게임을 진행하려고 합니다.\n",
    "\n",
    "다음은 5 x 5 크기의 맵에, 당신의 캐릭터가 (행: 1, 열: 1) 위치에 있고, 상대 팀 진영은 (행: 5, 열: 5) 위치에 있는 경우의 예시입니다.\n",
    "\n",
    "![image.png](attachment:image.png)\n",
    "\n",
    "위 그림에서 검은색 부분은 벽으로 막혀있어 갈 수 없는 길이며, 흰색 부분은 갈 수 있는 길입니다.\n",
    "\n",
    "캐릭터가 움직일 때는 동, 서, 남, 북 방향으로 한 칸씩 이동하며, 게임 맵을 벗어난 길은 갈 수 없습니다.\n",
    "\n",
    "아래 예시는 캐릭터가 상대 팀 진영으로 가는 두 가지 방법을 나타내고 있습니다.\n",
    "\n",
    "첫 번째 방법은 11개의 칸을 지나서 상대 팀 진영에 도착했습니다.\n",
    "\n",
    "![image-2.png](attachment:image-2.png)\n",
    "\n",
    "두 번째 방법은 15개의 칸을 지나서 상대팀 진영에 도착했습니다.\n",
    "\n",
    "![image-3.png](attachment:image-3.png)\n",
    "\n",
    "위 예시에서는 첫 번째 방법보다 더 빠르게 상대팀 진영에 도착하는 방법은 없으므로, 이 방법이 상대 팀 진영으로 가는 가장 빠른 방법입니다.\n",
    "\n",
    "만약, 상대 팀이 자신의 팀 진영 주위에 벽을 세워두었다면 상대 팀 진영에 도착하지 못할 수도 있습니다.\n",
    "\n",
    "예를 들어, 다음과 같은 경우에 당신의 캐릭터는 상대 팀 진영에 도착할 수 없습니다.\n",
    "\n",
    "![image-4.png](attachment:image-4.png)\n",
    "\n",
    "게임 맵의 상태 maps가 매개변수로 주어질 때, 캐릭터가 상대 팀 진영에 도착하기 위해서 지나가야 하는 칸의 개수의 최솟값을 return 하도록 solution 함수를 완성해주세요. 단, 상대 팀 진영에 도착할 수 없을 때는 -1을 return 해주세요.\n",
    "\n",
    "제한사항\n",
    "- maps는 n x m 크기의 게임 맵의 상태가 들어있는 2차원 배열로, n과 m은 각각 1 이상 100 이하의 자연수입니다.\n",
    "- n과 m은 서로 같을 수도, 다를 수도 있지만, n과 m이 모두 1인 경우는 입력으로 주어지지 않습니다.\n",
    "- maps는 0과 1로만 이루어져 있으며, 0은 벽이 있는 자리, 1은 벽이 없는 자리를 나타냅니다.\n",
    "- 처음에 캐릭터는 게임 맵의 좌측 상단인 (1, 1) 위치에 있으며, 상대방 진영은 게임 맵의 우측 하단인 (n, m) 위치에 있습니다."
   ]
  },
  {
   "cell_type": "code",
   "execution_count": 1,
   "metadata": {},
   "outputs": [],
   "source": [
    "def func(maps, x, y, move_x=0, move_y=0):\n",
    "    cur_x, cur_y = x + move_x, y + move_y\n",
    "    if cur_x< 0 or cur_y < 0 or cur_x >= len(maps) or cur_y >= len(maps[0]) or maps[cur_x][cur_y] == 0:\n",
    "        return\n",
    "    \n",
    "    if maps[cur_x][cur_y] == 1 or maps[cur_x][cur_y] > maps[x][y] + 1:\n",
    "        maps[cur_x][cur_y] = maps[x][y] + 1\n",
    "        func(maps, cur_x, cur_y, 1, 0)\n",
    "        func(maps, cur_x, cur_y, -1, 0)\n",
    "        func(maps, cur_x, cur_y, 0, 1)\n",
    "        func(maps, cur_x, cur_y, 0, -1)\n",
    "    \n",
    "    return maps\n",
    "    \n",
    "\n",
    "#dfs 재귀\n",
    "def solution(maps):\n",
    "    answer = 0\n",
    "    n, m = len(maps), len(maps[0])\n",
    "    \n",
    "    func_map = func(maps, 0, 0)\n",
    "    if func_map[n-1][m-1] == 1:\n",
    "        answer = -1\n",
    "    else:\n",
    "        answer = func_map[n-1][m-1] -1\n",
    "    \n",
    "    return answer"
   ]
  },
  {
   "cell_type": "code",
   "execution_count": 2,
   "metadata": {},
   "outputs": [
    {
     "data": {
      "text/plain": [
       "-1"
      ]
     },
     "execution_count": 2,
     "metadata": {},
     "output_type": "execute_result"
    }
   ],
   "source": [
    "# maps = [[1,0,1,1,1],[1,0,1,0,1],[1,0,1,1,1],[1,1,1,0,1],[0,0,0,0,1]]\n",
    "# answer = 11\n",
    "\n",
    "maps = [[1,0,1,1,1],[1,0,1,0,1],[1,0,1,1,1],[1,1,1,0,0],[0,0,0,0,1]]\n",
    "# answer = -1\n",
    "\n",
    "solution(maps)"
   ]
  },
  {
   "cell_type": "markdown",
   "metadata": {},
   "source": [
    "dfs는 효율성에서 모두 실패해서 bfs로 바꿔 풀기.."
   ]
  },
  {
   "cell_type": "code",
   "execution_count": 3,
   "metadata": {},
   "outputs": [],
   "source": [
    "from collections import deque\n",
    "\n",
    "#bfs\n",
    "def solution(maps):\n",
    "    answer = 0\n",
    "    \n",
    "    n,m = len(maps) - 1, len(maps[0]) - 1\n",
    "    \n",
    "    moves = [(0,1), (1,0), (-1,0), (0,-1)]\n",
    "    q = deque()\n",
    "    q.append((0,0))\n",
    "    \n",
    "    while q:\n",
    "        x, y = q.popleft()\n",
    "        \n",
    "        for move in moves:\n",
    "            cur_x, cur_y = x + move[0], y + move[1]\n",
    "            \n",
    "            if cur_x < 0 or cur_x > n or cur_y < 0 or cur_y > m:\n",
    "                continue\n",
    "            \n",
    "            if maps[cur_x][cur_y] == 1:\n",
    "                maps[cur_x][cur_y] = maps[x][y] + 1\n",
    "                q.append((cur_x, cur_y))\n",
    "                \n",
    "    answer = maps[n][m]\n",
    "    \n",
    "    if answer == 1:\n",
    "        answer =- 1\n",
    "    return answer"
   ]
  },
  {
   "cell_type": "code",
   "execution_count": 4,
   "metadata": {},
   "outputs": [
    {
     "data": {
      "text/plain": [
       "11"
      ]
     },
     "execution_count": 4,
     "metadata": {},
     "output_type": "execute_result"
    }
   ],
   "source": [
    "maps = [[1,0,1,1,1],[1,0,1,0,1],[1,0,1,1,1],[1,1,1,0,1],[0,0,0,0,1]]\n",
    "# # answer = 11\n",
    "\n",
    "# maps = [[1,0,1,1,1],[1,0,1,0,1],[1,0,1,1,1],[1,1,1,0,0],[0,0,0,0,1]]\n",
    "# answer = -1\n",
    "\n",
    "solution(maps)"
   ]
  },
  {
   "cell_type": "code",
   "execution_count": null,
   "metadata": {},
   "outputs": [],
   "source": []
  }
 ],
 "metadata": {
  "kernelspec": {
   "display_name": "Python 3",
   "language": "python",
   "name": "python3"
  },
  "language_info": {
   "codemirror_mode": {
    "name": "ipython",
    "version": 3
   },
   "file_extension": ".py",
   "mimetype": "text/x-python",
   "name": "python",
   "nbconvert_exporter": "python",
   "pygments_lexer": "ipython3",
   "version": "3.8.5"
  }
 },
 "nbformat": 4,
 "nbformat_minor": 4
}
