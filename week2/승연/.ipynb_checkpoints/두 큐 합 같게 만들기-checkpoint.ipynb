{
 "cells": [
  {
   "cell_type": "code",
   "execution_count": null,
   "metadata": {},
   "outputs": [],
   "source": [
    "import deque\n",
    "def solution(queue1, queue2):\n",
    "    answer = -2\n",
    "    \n",
    "    q = queue1 + queue2\n",
    "    target = sum(q) // 2\n",
    "    \n",
    "    cnt = 0\n",
    "    \n",
    "    while queue1 and queue2:\n",
    "        if sum(queue2) > target:\n",
    "            queue1.insert(len(queue1), queue2.pop(0))\n",
    "            cnt += 1\n",
    "        elif sum(queue2) < target:\n",
    "            queue2.insert(len(queue2), queue1.pop(0))\n",
    "            cnt += 1\n",
    "        else:\n",
    "            answer = cnt\n",
    "            break\n",
    "            \n",
    "    if queue2 == []:\n",
    "        answer = -1\n",
    "    else : \n",
    "        answer = cnt\n",
    "    \n",
    "    \n",
    "    return answer"
   ]
  },
  {
   "cell_type": "code",
   "execution_count": 221,
   "metadata": {},
   "outputs": [],
   "source": [
    "from collections import deque\n",
    "\n",
    "def solution(queue1, queue2):\n",
    "    q = queue1 + queue2\n",
    "    target = sum(q) // 2\n",
    "    \n",
    "    q1 = deque(queue2)\n",
    "    q2 = deque(queue1)\n",
    "    \n",
    "    s = sum(q2)\n",
    "    cnt = 0\n",
    "    \n",
    "    while q1 and q2:\n",
    "        if s < target:\n",
    "            q2.append(q1.popleft())\n",
    "            s += q2[-1]\n",
    "            cnt += 1\n",
    "        elif s > target:\n",
    "#             q1.append(q2.popleft())\n",
    "#             s -= q1[-1]\n",
    "            \n",
    "            s -= q2.popleft()\n",
    "            cnt += 1\n",
    "            \n",
    "        else:\n",
    "            return cnt\n",
    "        \n",
    "    return -1"
   ]
  },
  {
   "cell_type": "code",
   "execution_count": 222,
   "metadata": {},
   "outputs": [
    {
     "data": {
      "text/plain": [
       "7"
      ]
     },
     "execution_count": 222,
     "metadata": {},
     "output_type": "execute_result"
    }
   ],
   "source": [
    "# queue1 = [3, 2, 7, 2]\n",
    "# queue2 = [4, 6, 5, 1]\n",
    "# result = 2\n",
    "\n",
    "queue1 = [1, 2, 1, 2]\n",
    "queue2 = [1, 10, 1, 2]\n",
    "# # result = 7\n",
    "\n",
    "# queue1 = [1, 1]\n",
    "# queue2 = [1, 5]\n",
    "# # result = -1\n",
    "\n",
    "# queue1 = [ 1, 1, 1, 1, 1, 1, 1, 1, 1, 10 ]\n",
    "# queue2 = [ 1, 1, 1, 1, 1, 1, 1, 1, 1, 1 ]\n",
    "solution(queue1,queue2)"
   ]
  },
  {
   "cell_type": "code",
   "execution_count": null,
   "metadata": {},
   "outputs": [],
   "source": []
  }
 ],
 "metadata": {
  "kernelspec": {
   "display_name": "Python 3",
   "language": "python",
   "name": "python3"
  },
  "language_info": {
   "codemirror_mode": {
    "name": "ipython",
    "version": 3
   },
   "file_extension": ".py",
   "mimetype": "text/x-python",
   "name": "python",
   "nbconvert_exporter": "python",
   "pygments_lexer": "ipython3",
   "version": "3.8.5"
  }
 },
 "nbformat": 4,
 "nbformat_minor": 4
}
