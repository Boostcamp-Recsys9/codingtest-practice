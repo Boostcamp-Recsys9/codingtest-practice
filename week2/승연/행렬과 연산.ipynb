{
 "cells": [
  {
   "cell_type": "code",
   "execution_count": null,
   "metadata": {},
   "outputs": [],
   "source": [
    "def solution(rc, operations):\n",
    "    answer = [[]]\n",
    "    cl = len(rc[0])-1 # column length\n",
    "    rl = len(rc)-1    # row length\n",
    "    \n",
    "    for op in operations:\n",
    "        if op == 'ShiftRow':\n",
    "            t = rc[rl]\n",
    "            rc[1:] = rc[:rl]\n",
    "            rc[0] = t\n",
    "                \n",
    "        else:\n",
    "            rot_lu = rc[1][0]\n",
    "            rot_ru = rc[0][cl-1]\n",
    "            rot_ld = rc[rl][1]\n",
    "            rot_rd = rc[rl-1][cl]\n",
    "            \n",
    "            rot_rl = [[i[0], i[cl]] for i in rc]\n",
    "            \n",
    "            rc[0][1:cl+1] = rc[0][0:cl]\n",
    "            rc[rl][:cl] = rc[rl][1:cl+1]\n",
    "            \n",
    "            for i in range(0, rl):\n",
    "                rc[i+1][cl] = rot_rl[i][0]\n",
    "                \n",
    "            for i in range(rl,-1,-1):\n",
    "                rc[i-1][0] = rot_rl[rl][1]\n",
    "                \n",
    "            rc[0][0] = rot_lu\n",
    "            rc[0][cl] = rot_ru\n",
    "            rc[rl][0] = rot_ld\n",
    "            rc[rl][cl] = rot_rd\n",
    "                \n",
    "    answer = rc\n",
    "            \n",
    "    return answer"
   ]
  },
  {
   "cell_type": "code",
   "execution_count": 4,
   "metadata": {},
   "outputs": [
    {
     "data": {
      "text/plain": [
       "[[9, 3, 8], [4, 9, 7], [3, 8, 6]]"
      ]
     },
     "execution_count": 4,
     "metadata": {},
     "output_type": "execute_result"
    }
   ],
   "source": [
    "# rc = [[1, 2, 3], [4, 5, 6], [7, 8, 9]]\n",
    "# operations = [\"Rotate\", \"ShiftRow\"]\n",
    "# # result = [[8, 9, 6], [4, 1, 2], [7, 5, 3]]\n",
    "\n",
    "rc = [[8, 6, 3], [3, 3, 7], [8, 4, 9]]\n",
    "operations = [\"Rotate\", \"ShiftRow\", \"ShiftRow\"]\n",
    "# result = [[8, 3, 3], [4, 9, 7], [3, 8, 6]]\n",
    "\n",
    "# rc = [[1, 2, 3, 4], [5, 6, 7, 8], [9, 10, 11, 12]]\n",
    "# operations = [\"ShiftRow\", \"Rotate\", \"ShiftRow\", \"Rotate\"]\n",
    "# # result = [[1, 6, 7 ,8], [5, 9, 10, 4], [2, 3, 12, 11]]\n",
    "\n",
    "solution(rc, operations)"
   ]
  },
  {
   "cell_type": "code",
   "execution_count": 3,
   "metadata": {},
   "outputs": [],
   "source": [
    "def solution(rc, operations):\n",
    "    answer = [[]]\n",
    "    cl = len(rc[0])-1 # column length\n",
    "    rl = len(rc)-1    # row length\n",
    "    \n",
    "    for op in operations:\n",
    "        if op == 'ShiftRow':\n",
    "            t = rc[rl]\n",
    "            rc[1:] = rc[:rl]\n",
    "            rc[0] = t\n",
    "                \n",
    "        else:\n",
    "            rot_lu = rc[1][0]\n",
    "            rot_ru = rc[0][cl-1]\n",
    "            rot_ld = rc[rl][1]\n",
    "            rot_rd = rc[rl-1][cl]\n",
    "            \n",
    "            rot_rl = [[i[0], i[cl]] for i in rc]\n",
    "            \n",
    "            rc[0][1:cl+1] = rc[0][0:cl]\n",
    "            rc[rl][:cl] = rc[rl][1:cl+1]\n",
    "            \n",
    "            for i in range(0, rl):\n",
    "                rc[i+1][cl] = rot_rl[i][0]\n",
    "                \n",
    "            for i in range(rl,-1,-1):\n",
    "                rc[i-1][0] = rot_rl[rl][1]\n",
    "                \n",
    "            rc[0][0] = rot_lu\n",
    "            rc[0][cl] = rot_ru\n",
    "            rc[rl][0] = rot_ld\n",
    "            rc[rl][cl] = rot_rd\n",
    "                \n",
    "    answer = rc\n",
    "            \n",
    "    return answer"
   ]
  }
 ],
 "metadata": {
  "kernelspec": {
   "display_name": "Python 3",
   "language": "python",
   "name": "python3"
  },
  "language_info": {
   "codemirror_mode": {
    "name": "ipython",
    "version": 3
   },
   "file_extension": ".py",
   "mimetype": "text/x-python",
   "name": "python",
   "nbconvert_exporter": "python",
   "pygments_lexer": "ipython3",
   "version": "3.8.5"
  }
 },
 "nbformat": 4,
 "nbformat_minor": 4
}
