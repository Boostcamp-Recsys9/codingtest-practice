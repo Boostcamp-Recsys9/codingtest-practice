{
 "cells": [
  {
   "cell_type": "code",
   "execution_count": 7,
   "metadata": {},
   "outputs": [],
   "source": [
    "def solution(survey, choices):\n",
    "    answer = ''\n",
    "    \n",
    "    #지표별 성격유형\n",
    "    personality_type = {\"R\":0, \"T\":0, \"C\":0, \"F\":0, \"J\":0, \"M\":0, \"A\":0, \"N\":0}\n",
    "    pivot = ['RT','CF','JM','AN']\n",
    "    \n",
    "    for idx, surv in enumerate(survey):\n",
    "        # 기준점 4를 토대로 점수 계산\n",
    "        if choices[idx] < 4:\n",
    "            personality_type[surv[0]] += abs(4 - choices[idx])\n",
    "        elif choices[idx] > 4:\n",
    "            personality_type[surv[1]] += abs(4 - choices[idx])\n",
    "            \n",
    "    for p in pivot:\n",
    "        if personality_type[p[0]] >= personality_type[p[1]]:\n",
    "            answer += p[0]\n",
    "        else:\n",
    "            answer += p[1]\n",
    "            \n",
    "    return answer"
   ]
  },
  {
   "cell_type": "code",
   "execution_count": 8,
   "metadata": {},
   "outputs": [
    {
     "data": {
      "text/plain": [
       "'TCMA'"
      ]
     },
     "execution_count": 8,
     "metadata": {},
     "output_type": "execute_result"
    }
   ],
   "source": [
    "survey = [\"AN\", \"CF\", \"MJ\", \"RT\", \"NA\"]\n",
    "choices = [5, 3, 2, 7, 5]\n",
    "# \"TCMA\"\n",
    "solution(survey, choices)"
   ]
  },
  {
   "cell_type": "code",
   "execution_count": 9,
   "metadata": {},
   "outputs": [],
   "source": [
    "# def solution(survey, choices):\n",
    "#     answer = ''\n",
    "    \n",
    "#     #지표별 성격유형\n",
    "#     personality_type = {\n",
    "#         '1':{\n",
    "#             \"R\" : 0,\n",
    "#             \"T\" : 0\n",
    "#         },\n",
    "#         '2':{\n",
    "#             \"C\" : 0,\n",
    "#             \"F\" : 0\n",
    "#         },\n",
    "#         '3':{\n",
    "#             \"J\" : 0,\n",
    "#             \"M\" : 0\n",
    "#         },\n",
    "#         '4':{\n",
    "#             \"A\" : 0,\n",
    "#             \"N\" : 0\n",
    "#         }\n",
    "#     }\n",
    "    \n",
    "#     for idx, surv in enumerate(survey):\n",
    "#         if 'R' in surv:\n",
    "#             c = '1'\n",
    "#         elif 'C' in surv:\n",
    "#             c = '2'\n",
    "#         elif 'J' in surv:\n",
    "#             c = '3'\n",
    "#         elif 'A' in surv:\n",
    "#             c = '4'            \n",
    "        \n",
    "#         # 기준점 4를 토대로 점수 계산\n",
    "#         if choices[idx] < 4:\n",
    "#             personality_type[c][surv[0]] += abs(4 - choices[idx])\n",
    "#         elif choices[idx] > 4:\n",
    "#             personality_type[c][surv[1]] += abs(4 - choices[idx])\n",
    "            \n",
    "#     sort_type = sorted(personality_type.items(), key=lambda x : x[1].items())\n",
    "#     print(\"sort_type : \", sort_type)\n",
    "    \n",
    "#     t_result = []\n",
    "#     for st in sort_type:\n",
    "#         t = sorted(st[1].items(), key=lambda x : [-x[1],x[0]])\n",
    "#         print(\"t : \", t)\n",
    "#         t_result.append(t)\n",
    "        \n",
    "#     result = [x[0][0] for x in t_result]\n",
    "    \n",
    "#     answer = \"\".join(result)\n",
    "#     return answer"
   ]
  },
  {
   "cell_type": "code",
   "execution_count": 10,
   "metadata": {},
   "outputs": [],
   "source": [
    "# survey = [\"AN\", \"CF\", \"MJ\", \"RT\", \"NA\"]\n",
    "# choices = [5, 3, 2, 7, 5]\n",
    "# # \"TCMA\"\n",
    "# solution(survey, choices)"
   ]
  },
  {
   "cell_type": "code",
   "execution_count": null,
   "metadata": {},
   "outputs": [],
   "source": []
  }
 ],
 "metadata": {
  "kernelspec": {
   "display_name": "Python 3",
   "language": "python",
   "name": "python3"
  },
  "language_info": {
   "codemirror_mode": {
    "name": "ipython",
    "version": 3
   },
   "file_extension": ".py",
   "mimetype": "text/x-python",
   "name": "python",
   "nbconvert_exporter": "python",
   "pygments_lexer": "ipython3",
   "version": "3.8.5"
  }
 },
 "nbformat": 4,
 "nbformat_minor": 4
}
